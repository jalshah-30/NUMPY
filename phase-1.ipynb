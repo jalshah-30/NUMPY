{
 "cells": [
  {
   "cell_type": "code",
   "execution_count": 2,
   "id": "13a3228e",
   "metadata": {},
   "outputs": [],
   "source": [
    "import numpy as np"
   ]
  },
  {
   "cell_type": "markdown",
   "id": "8ef230c7",
   "metadata": {},
   "source": [
    "#Creating array from list"
   ]
  },
  {
   "cell_type": "code",
   "execution_count": 3,
   "id": "3bf9deff",
   "metadata": {},
   "outputs": [
    {
     "name": "stdout",
     "output_type": "stream",
     "text": [
      "[1 2 3 4 5 6]\n",
      "[[1 2 3]\n",
      " [4 5 6]]\n"
     ]
    }
   ],
   "source": [
    "arr_1d=np.array([1,2,3,4,5,6])\n",
    "arr_2d=np.array([[1,2,3],[4,5,6]])\n",
    "print(arr_1d)\n",
    "print(arr_2d)"
   ]
  },
  {
   "cell_type": "markdown",
   "id": "20b5c814",
   "metadata": {},
   "source": [
    "#List vs Numpy Array"
   ]
  },
  {
   "cell_type": "code",
   "execution_count": 9,
   "id": "61a7cef4",
   "metadata": {},
   "outputs": [
    {
     "name": "stdout",
     "output_type": "stream",
     "text": [
      "Python list: [1, 2, 3, 1, 2, 3]\n",
      "Numpy array: [2 4 6]\n",
      "Time taken for python list: 0.10519576072692871\n",
      "Time taken for numpy array: 0.006287813186645508\n"
     ]
    }
   ],
   "source": [
    "py_list=[1,2,3]\n",
    "print(\"Python list:\",py_list * 2)\n",
    "\n",
    "ny_array=np.array([1,2,3])\n",
    "print(\"Numpy array:\",ny_array * 2)\n",
    "\n",
    "import time\n",
    "\n",
    "start=time.time()\n",
    "py_list=[i*2 for i in range(1000000)]\n",
    "print(\"Time taken for python list:\",time.time()-start)\n",
    "\n",
    "start2=time.time()\n",
    "ny_array=np.arange(1000000)*2\n",
    "print(\"Time taken for numpy array:\",time.time()-start2)"
   ]
  }
 ],
 "metadata": {
  "kernelspec": {
   "display_name": "numpy",
   "language": "python",
   "name": "python3"
  },
  "language_info": {
   "codemirror_mode": {
    "name": "ipython",
    "version": 3
   },
   "file_extension": ".py",
   "mimetype": "text/x-python",
   "name": "python",
   "nbconvert_exporter": "python",
   "pygments_lexer": "ipython3",
   "version": "3.13.7"
  }
 },
 "nbformat": 4,
 "nbformat_minor": 5
}
