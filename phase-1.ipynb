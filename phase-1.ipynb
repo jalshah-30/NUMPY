{
 "cells": [
  {
   "cell_type": "code",
   "execution_count": 2,
   "id": "13a3228e",
   "metadata": {},
   "outputs": [],
   "source": [
    "import numpy as np"
   ]
  },
  {
   "cell_type": "markdown",
   "id": "8ef230c7",
   "metadata": {},
   "source": [
    "#Creating array from list"
   ]
  },
  {
   "cell_type": "code",
   "execution_count": 3,
   "id": "3bf9deff",
   "metadata": {},
   "outputs": [
    {
     "name": "stdout",
     "output_type": "stream",
     "text": [
      "[1 2 3 4 5 6]\n",
      "[[1 2 3]\n",
      " [4 5 6]]\n"
     ]
    }
   ],
   "source": [
    "arr_1d=np.array([1,2,3,4,5,6])\n",
    "arr_2d=np.array([[1,2,3],[4,5,6]])\n",
    "print(arr_1d)\n",
    "print(arr_2d)"
   ]
  },
  {
   "cell_type": "markdown",
   "id": "20b5c814",
   "metadata": {},
   "source": [
    "#List vs Numpy Array"
   ]
  },
  {
   "cell_type": "code",
   "execution_count": 9,
   "id": "61a7cef4",
   "metadata": {},
   "outputs": [
    {
     "name": "stdout",
     "output_type": "stream",
     "text": [
      "Python list: [1, 2, 3, 1, 2, 3]\n",
      "Numpy array: [2 4 6]\n",
      "Time taken for python list: 0.10519576072692871\n",
      "Time taken for numpy array: 0.006287813186645508\n"
     ]
    }
   ],
   "source": [
    "py_list=[1,2,3]\n",
    "print(\"Python list:\",py_list * 2)\n",
    "\n",
    "ny_array=np.array([1,2,3])\n",
    "print(\"Numpy array:\",ny_array * 2)\n",
    "\n",
    "import time\n",
    "\n",
    "start=time.time()\n",
    "py_list=[i*2 for i in range(1000000)]\n",
    "print(\"Time taken for python list:\",time.time()-start)\n",
    "\n",
    "start2=time.time()\n",
    "ny_array=np.arange(1000000)*2\n",
    "print(\"Time taken for numpy array:\",time.time()-start2)"
   ]
  },
  {
   "cell_type": "markdown",
   "id": "80ae6d74",
   "metadata": {},
   "source": [
    "#Creating array from scratch"
   ]
  },
  {
   "cell_type": "code",
   "execution_count": 10,
   "id": "c4d502b1",
   "metadata": {},
   "outputs": [
    {
     "name": "stdout",
     "output_type": "stream",
     "text": [
      "Zeros:\n",
      " [[0. 0. 0. 0.]\n",
      " [0. 0. 0. 0.]\n",
      " [0. 0. 0. 0.]]\n",
      "Ones:\n",
      " [[1. 1. 1.]\n",
      " [1. 1. 1.]\n",
      " [1. 1. 1.]]\n",
      "Use of FULL array:\n",
      " [[20 20 20]\n",
      " [20 20 20]\n",
      " [20 20 20]]\n",
      "Random array:\n",
      " [[0.43535065 0.07933896 0.21371273]\n",
      " [0.47379784 0.08104531 0.13420763]]\n",
      "Sequence array:\n",
      " [ 0  2  4  6  8 10 12 14 16 18]\n"
     ]
    }
   ],
   "source": [
    "zero=np.zeros((3,4))\n",
    "print(\"Zeros:\\n\",zero)\n",
    "\n",
    "ones=np.ones((3,3))\n",
    "print(\"Ones:\\n\",ones)\n",
    "\n",
    "full=np.full((3,3),20)\n",
    "print(\"Use of FULL array:\\n\",full)\n",
    "\n",
    "random=np.random.random((2,3))\n",
    "print(\"Random array:\\n\",random)\n",
    "\n",
    "sequence=np.arange(0,20,2)\n",
    "print(\"Sequence array:\\n\",sequence)"
   ]
  },
  {
   "cell_type": "markdown",
   "id": "f86b8496",
   "metadata": {},
   "source": [
    "### Vector , Matrix and Tensor"
   ]
  },
  {
   "cell_type": "code",
   "execution_count": 13,
   "id": "cc285a86",
   "metadata": {},
   "outputs": [
    {
     "name": "stdout",
     "output_type": "stream",
     "text": [
      "Vector: [1 2 3]\n",
      "Matrix: [[2 3 4]\n",
      " [4 5 6]]\n",
      "Tensor:\n",
      " [[[1 2]\n",
      "  [3 4]]\n",
      "\n",
      " [[5 6]\n",
      "  [7 8]]]\n"
     ]
    }
   ],
   "source": [
    "vector=np.array([1,2,3])\n",
    "print(\"Vector:\",vector)\n",
    "\n",
    "matrix=np.array([[2,3,4],[4,5,6]])\n",
    "print(\"Matrix:\",matrix)\n",
    "\n",
    "tensor=np.array([[[1,2],[3,4]],\n",
    "                  [[5,6],[7,8]]])\n",
    "print(\"Tensor:\\n\",tensor)"
   ]
  },
  {
   "cell_type": "markdown",
   "id": "3dd19be6",
   "metadata": {},
   "source": [
    "###Array Properties"
   ]
  },
  {
   "cell_type": "code",
   "execution_count": 15,
   "id": "b0843897",
   "metadata": {},
   "outputs": [
    {
     "name": "stdout",
     "output_type": "stream",
     "text": [
      "Shape of the array: (2, 3)\n",
      "Dimension of the array: 2\n",
      "Size of the array: 6\n",
      "Data Type of the array: <U21\n"
     ]
    }
   ],
   "source": [
    "arr=np.array([[10,20,30],\n",
    "              [50,60,\"70.5\"]])\n",
    "\n",
    "print(\"Shape of the array:\",arr.shape)\n",
    "print(\"Dimension of the array:\",arr.ndim)\n",
    "print(\"Size of the array:\",arr.size)\n",
    "print(\"Data Type of the array:\",arr.dtype)"
   ]
  },
  {
   "cell_type": "markdown",
   "id": "41db1275",
   "metadata": {},
   "source": [
    "###ARRAY Reshaping"
   ]
  },
  {
   "cell_type": "code",
   "execution_count": 21,
   "id": "7897759c",
   "metadata": {},
   "outputs": [
    {
     "name": "stdout",
     "output_type": "stream",
     "text": [
      "Simple Array:\n",
      " [ 0  1  2  3  4  5  6  7  8  9 10 11]\n",
      "Reshaped Array:\n",
      " [[ 0  1  2]\n",
      " [ 3  4  5]\n",
      " [ 6  7  8]\n",
      " [ 9 10 11]]\n",
      "Flattend Array:\n",
      " [ 0  1  2  3  4  5  6  7  8  9 10 11]\n",
      "Raveled Array:\n",
      " [ 0  1  2  3  4  5  6  7  8  9 10 11]\n",
      "Transposed Array:\n",
      " [[ 0  3  6  9]\n",
      " [ 1  4  7 10]\n",
      " [ 2  5  8 11]]\n"
     ]
    }
   ],
   "source": [
    "arr=np.arange(12)\n",
    "print(\"Simple Array:\\n\",arr)\n",
    "\n",
    "reshape=arr.reshape((4,3))\n",
    "print(\"Reshaped Array:\\n\",reshape)\n",
    "\n",
    "flattend=reshape.flatten()\n",
    "print(\"Flattend Array:\\n\",flattend)\n",
    "\n",
    "# ravel(returns view,instead of copy)\n",
    "#that means the original does not get changed\n",
    "raveled=reshape.ravel()\n",
    "print(\"Raveled Array:\\n\",raveled)\n",
    "\n",
    "transpose=reshape.T\n",
    "print(\"Transposed Array:\\n\",transpose)"
   ]
  }
 ],
 "metadata": {
  "kernelspec": {
   "display_name": "numpy",
   "language": "python",
   "name": "python3"
  },
  "language_info": {
   "codemirror_mode": {
    "name": "ipython",
    "version": 3
   },
   "file_extension": ".py",
   "mimetype": "text/x-python",
   "name": "python",
   "nbconvert_exporter": "python",
   "pygments_lexer": "ipython3",
   "version": "3.13.7"
  }
 },
 "nbformat": 4,
 "nbformat_minor": 5
}
