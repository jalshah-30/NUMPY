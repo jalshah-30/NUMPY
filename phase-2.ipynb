{
 "cells": [
  {
   "cell_type": "markdown",
   "id": "e32dd730",
   "metadata": {},
   "source": [
    "###Numpy Array Operations"
   ]
  },
  {
   "cell_type": "code",
   "execution_count": 2,
   "id": "fe3a1f80",
   "metadata": {},
   "outputs": [],
   "source": [
    "import numpy as np"
   ]
  },
  {
   "cell_type": "code",
   "execution_count": 5,
   "id": "53657419",
   "metadata": {},
   "outputs": [
    {
     "name": "stdout",
     "output_type": "stream",
     "text": [
      "Basic slicing: [3 4 5 6 7 8 9]\n",
      "With step: [2 4 6]\n",
      "Negative Slicing: 6\n"
     ]
    }
   ],
   "source": [
    "arr=np.array([1,2,3,4,5,6,7,8,9,10])\n",
    "#arr=np.arange(1,11)\n",
    "print(\"Basic slicing:\",arr[2:9])\n",
    "print(\"With step:\",arr[1:6:2])\n",
    "print(\"Negative Slicing:\",arr[-5])"
   ]
  },
  {
   "cell_type": "markdown",
   "id": "3ee878c2",
   "metadata": {},
   "source": [
    "### Operations on 2D array"
   ]
  },
  {
   "cell_type": "code",
   "execution_count": 9,
   "id": "fcd8ddf5",
   "metadata": {},
   "outputs": [
    {
     "name": "stdout",
     "output_type": "stream",
     "text": [
      "Single Element: 2\n",
      "Entire row: [7 8 9]\n",
      "Entire column: [2 5 8]\n"
     ]
    }
   ],
   "source": [
    "                # 0 1 2   \n",
    "arr_2d=np.array([[1,2,3],  #0\n",
    "                 [4,5,6],  #1\n",
    "                 [7,8,9]]) #2\n",
    "\n",
    "print(\"Single Element:\",arr_2d[0,1])\n",
    "# print(\"Single Element:\",arr_2d[row,column])\n",
    "print(\"Entire row:\",arr_2d[2])\n",
    "print(\"Entire column:\",arr_2d[:,1])"
   ]
  },
  {
   "cell_type": "markdown",
   "id": "fb5f0774",
   "metadata": {},
   "source": [
    "### Sorting"
   ]
  },
  {
   "cell_type": "code",
   "execution_count": 16,
   "id": "5a386f30",
   "metadata": {},
   "outputs": [
    {
     "name": "stdout",
     "output_type": "stream",
     "text": [
      "Sorting 1D array: [ 1  2  3  3  3  4 21]\n",
      "Sorting 2D array by column:\n",
      " [[1 1 2 1]\n",
      " [6 1 3 4]\n",
      " [8 4 3 9]]\n",
      "Sorting 2D array by row:\n",
      " [[1 3 4 8]\n",
      " [1 1 3 6]\n",
      " [1 2 4 9]]\n"
     ]
    }
   ],
   "source": [
    "unsorted=np.array([2,3,21,4,3,3,1])\n",
    "print(\"Sorting 1D array:\",np.sort(unsorted))\n",
    "\n",
    "unsorted_2d=np.array([[8,1,3,4],\n",
    "                      [6,1,3,1],\n",
    "                      [1,4,2,9]])\n",
    "print(\"Sorting 2D array by column:\\n\",np.sort(unsorted_2d,axis=0))\n",
    "print(\"Sorting 2D array by row:\\n\",np.sort(unsorted_2d,axis=1))"
   ]
  },
  {
   "cell_type": "markdown",
   "id": "7ef23c8f",
   "metadata": {},
   "source": [
    "### Filtering"
   ]
  },
  {
   "cell_type": "code",
   "execution_count": 4,
   "id": "475320f1",
   "metadata": {},
   "outputs": [
    {
     "name": "stdout",
     "output_type": "stream",
     "text": [
      "Even Numbers: [ 2 34  2  2 14]\n"
     ]
    }
   ],
   "source": [
    "numbers=np.array([1,2,34,2,2,5,14,13])\n",
    "even_numbers=numbers[numbers%2==0]\n",
    "print(\"Even Numbers:\",even_numbers)"
   ]
  },
  {
   "cell_type": "markdown",
   "id": "868f97f0",
   "metadata": {},
   "source": [
    "### Filtering with Mask"
   ]
  },
  {
   "cell_type": "code",
   "execution_count": 18,
   "id": "57458056",
   "metadata": {},
   "outputs": [
    {
     "name": "stdout",
     "output_type": "stream",
     "text": [
      "Numbers greater than 15: [34]\n"
     ]
    }
   ],
   "source": [
    "mask=numbers>15\n",
    "print(\"Numbers greater than 15:\",numbers[mask])"
   ]
  },
  {
   "cell_type": "markdown",
   "id": "d3881648",
   "metadata": {},
   "source": [
    "### Fancy Indexing v/s np.where()"
   ]
  },
  {
   "cell_type": "code",
   "execution_count": 8,
   "id": "99701330",
   "metadata": {},
   "outputs": [
    {
     "name": "stdout",
     "output_type": "stream",
     "text": [
      "[ 1 34  2]\n",
      "Using where(): [34 14 13]\n"
     ]
    }
   ],
   "source": [
    "indices=[0,2,4]\n",
    "print(numbers[indices])\n",
    "\n",
    "where_result=np.where(numbers>5)\n",
    "print(\"Using where():\",numbers[where_result])"
   ]
  },
  {
   "cell_type": "code",
   "execution_count": 10,
   "id": "2e667f18",
   "metadata": {},
   "outputs": [
    {
     "name": "stdout",
     "output_type": "stream",
     "text": [
      "[ 1  2 68  2  2  5 28 26]\n",
      "['False' 'False' 'True' 'False' 'False' 'False' 'True' 'True']\n"
     ]
    }
   ],
   "source": [
    "condition_array=np.where(numbers>5,numbers*2,numbers)\n",
    "print(condition_array)\n",
    "\n",
    "true_false=np.where(numbers>5,\"True\",\"False\")\n",
    "print(true_false)"
   ]
  },
  {
   "cell_type": "markdown",
   "id": "4e81e555",
   "metadata": {},
   "source": [
    "Conditional array in if else\n",
    "\n",
    "if(numbers>5){\n",
    "    numbers*2\n",
    "}else{\n",
    "    numbers\n",
    "}"
   ]
  },
  {
   "cell_type": "markdown",
   "id": "9260b39f",
   "metadata": {},
   "source": [
    "### Adding And Removing Data"
   ]
  },
  {
   "cell_type": "code",
   "execution_count": 11,
   "id": "1ee97996",
   "metadata": {},
   "outputs": [
    {
     "name": "stdout",
     "output_type": "stream",
     "text": [
      "Combined : [1 2 3 4 5 6]\n"
     ]
    }
   ],
   "source": [
    "arr1=np.array([1,2,3])\n",
    "arr2=np.array([4,5,6]) \n",
    "\n",
    "combined=np.concatenate((arr1,arr2))\n",
    "print(\"Combined :\",combined)"
   ]
  },
  {
   "cell_type": "markdown",
   "id": "298842c6",
   "metadata": {},
   "source": [
    "### Array Compatibility"
   ]
  },
  {
   "cell_type": "code",
   "execution_count": 13,
   "id": "9a089e2b",
   "metadata": {},
   "outputs": [
    {
     "name": "stdout",
     "output_type": "stream",
     "text": [
      "Compatibility of a and b: True\n",
      "Compatibility of c and b: False\n"
     ]
    }
   ],
   "source": [
    "a=np.array([1,2,3])\n",
    "b=np.array([4,5,6])\n",
    "c=np.array([7,8,9,10])\n",
    "\n",
    "print(\"Compatibility of a and b:\",a.shape==b.shape)\n",
    "print(\"Compatibility of c and b:\",c.shape==b.shape)"
   ]
  },
  {
   "cell_type": "code",
   "execution_count": 18,
   "id": "d005f074",
   "metadata": {},
   "outputs": [
    {
     "name": "stdout",
     "output_type": "stream",
     "text": [
      "Original:\n",
      " [[1 2]\n",
      " [3 4]]\n",
      "Added row:\n",
      " [[1 2]\n",
      " [3 4]\n",
      " [5 6]]\n",
      "Added column:\n",
      " [[1 2 5]\n",
      " [3 4 6]]\n"
     ]
    }
   ],
   "source": [
    "original = np.array([[1,2],[3,4]])\n",
    "new_row=np.array([[5,6]])\n",
    "               #vertical stack\n",
    "with_new_row=np.vstack((original,new_row))\n",
    "print(\"Original:\\n\",original)\n",
    "print(\"Added row:\\n\",with_new_row)\n",
    "\n",
    "new_col=np.array([[5],[6]])\n",
    "with_new_col=np.hstack((original,new_col))\n",
    "print(\"Added column:\\n\",with_new_col)"
   ]
  },
  {
   "cell_type": "code",
   "execution_count": 19,
   "id": "be2b7130",
   "metadata": {},
   "outputs": [
    {
     "name": "stdout",
     "output_type": "stream",
     "text": [
      "Original:\n",
      " [1 2 3 4 5]\n",
      "Deleted array:\n",
      " [1 2 3 5]\n"
     ]
    }
   ],
   "source": [
    "array=np.array([1,2,3,4,5])\n",
    "deleted=np.delete(array,3)\n",
    "print(\"Original:\\n\",array)\n",
    "print(\"Deleted array:\\n\",deleted)"
   ]
  }
 ],
 "metadata": {
  "kernelspec": {
   "display_name": "numpy",
   "language": "python",
   "name": "python3"
  },
  "language_info": {
   "codemirror_mode": {
    "name": "ipython",
    "version": 3
   },
   "file_extension": ".py",
   "mimetype": "text/x-python",
   "name": "python",
   "nbconvert_exporter": "python",
   "pygments_lexer": "ipython3",
   "version": "3.13.7"
  }
 },
 "nbformat": 4,
 "nbformat_minor": 5
}
