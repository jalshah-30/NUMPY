{
 "cells": [
  {
   "cell_type": "code",
   "execution_count": 1,
   "id": "71255c39-404e-4b50-8d63-09e0e718cdb6",
   "metadata": {},
   "outputs": [],
   "source": [
    "#first day"
   ]
  },
  {
   "cell_type": "code",
   "execution_count": 1,
   "id": "c9f515e6",
   "metadata": {},
   "outputs": [
    {
     "name": "stdout",
     "output_type": "stream",
     "text": [
      "Hello world\n"
     ]
    }
   ],
   "source": [
    "print(\"Hello world\")"
   ]
  }
 ],
 "metadata": {
  "kernelspec": {
   "display_name": "numpy",
   "language": "python",
   "name": "python3"
  },
  "language_info": {
   "codemirror_mode": {
    "name": "ipython",
    "version": 3
   },
   "file_extension": ".py",
   "mimetype": "text/x-python",
   "name": "python",
   "nbconvert_exporter": "python",
   "pygments_lexer": "ipython3",
   "version": "3.13.7"
  }
 },
 "nbformat": 4,
 "nbformat_minor": 5
}
